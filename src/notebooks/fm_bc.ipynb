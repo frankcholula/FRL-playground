{
 "cells": [
  {
   "cell_type": "markdown",
   "id": "3ddddde2",
   "metadata": {},
   "source": [
    "## EDA"
   ]
  },
  {
   "cell_type": "code",
   "execution_count": 1,
   "id": "fc11682d",
   "metadata": {},
   "outputs": [],
   "source": [
    "import time\n",
    "import torch\n",
    "\n",
    "from torch import nn, Tensor\n",
    "from torch.utils.data import DataLoader\n",
    "\n",
    "# flow_matching\n",
    "from flow_matching.path.scheduler import CondOTScheduler\n",
    "from flow_matching.path import AffineProbPath\n",
    "from flow_matching.solver import Solver, ODESolver\n",
    "from flow_matching.utils import ModelWrapper\n",
    "\n",
    "# visualization\n",
    "import matplotlib.pyplot as plt\n",
    "\n",
    "from matplotlib import cm\n",
    "\n",
    "\n",
    "# To avoide meshgrid warning\n",
    "import warnings\n",
    "\n",
    "warnings.filterwarnings(\"ignore\", category=UserWarning, module='torch')\n"
   ]
  },
  {
   "cell_type": "code",
   "execution_count": 2,
   "id": "0b92ffd7",
   "metadata": {},
   "outputs": [
    {
     "name": "stdout",
     "output_type": "stream",
     "text": [
      "Using cpu.\n"
     ]
    },
    {
     "data": {
      "text/plain": [
       "<torch._C.Generator at 0x114e4f670>"
      ]
     },
     "execution_count": 2,
     "metadata": {},
     "output_type": "execute_result"
    }
   ],
   "source": [
    "if torch.cuda.is_available():\n",
    "    device = 'cuda:0'\n",
    "    print('Using gpu')\n",
    "else:\n",
    "    device = 'cpu'\n",
    "    print('Using cpu.')\n",
    "torch.manual_seed(42)"
   ]
  },
  {
   "cell_type": "code",
   "execution_count": 4,
   "id": "c7640966",
   "metadata": {},
   "outputs": [],
   "source": [
    "class Swish(nn.Module):\n",
    "    def __init__(self):\n",
    "        super().__init__()\n",
    "\n",
    "    def forward(self, x: Tensor) -> Tensor:\n",
    "        return torch.sigmoid(x) * x\n",
    "\n",
    "\n",
    "# TODO: need to resolve temporal locality problem maybe with a CNN later.\n",
    "class MLP(nn.Module):\n",
    "    def __init__(self, input_dim: int, time_dim: int = 1, hidden_dim: int = 128):\n",
    "        super().__init__()\n",
    "\n",
    "        self.input_dim = input_dim\n",
    "        self.time_dim = time_dim\n",
    "        self.hidden_dim = hidden_dim\n",
    "\n",
    "        self.main = nn.Sequential(\n",
    "            nn.Linear(input_dim + time_dim, hidden_dim),\n",
    "            Swish(),\n",
    "            nn.Linear(hidden_dim, hidden_dim),\n",
    "            Swish(),\n",
    "            nn.Linear(hidden_dim, hidden_dim),\n",
    "            Swish(),\n",
    "            nn.Linear(hidden_dim, hidden_dim),\n",
    "            Swish(),\n",
    "            nn.Linear(hidden_dim, input_dim),\n",
    "        )\n",
    "\n",
    "    def forward(self, x: Tensor, t: Tensor) -> Tensor:\n",
    "        sz = x.size()\n",
    "        x = x.reshape(-1, self.input_dim)\n",
    "        t = t.reshape(-1, self.time_dim).float()\n",
    "\n",
    "        t = t.reshape(-1, 1).expand(x.shape[0], 1)\n",
    "        h = torch.cat([x, t], dim=1)\n",
    "        output = self.main(h)\n",
    "\n",
    "        return output.reshape(*sz)"
   ]
  },
  {
   "cell_type": "code",
   "execution_count": 5,
   "id": "3416b251",
   "metadata": {},
   "outputs": [],
   "source": [
    "def collate_fn(batch):\n",
    "    observations = [torch.as_tensor(x.observations) for x in batch]\n",
    "    actions = [torch.as_tensor(x.actions) for x in batch]\n",
    "    rewards = [torch.as_tensor(x.rewards) for x in batch]\n",
    "    terminations = [torch.as_tensor(x.terminations) for x in batch]\n",
    "    truncations = [torch.as_tensor(x.truncations) for x in batch]\n",
    "    episode_lengths = torch.tensor([len(x.actions) for x in batch], dtype=torch.long)\n",
    "\n",
    "    return {\n",
    "        \"id\": torch.Tensor([x.id for x in batch]),\n",
    "        \"observations\": torch.nn.utils.rnn.pad_sequence(\n",
    "            observations,\n",
    "            batch_first=True\n",
    "        ),\n",
    "        \"actions\": torch.nn.utils.rnn.pad_sequence(\n",
    "            actions,\n",
    "            batch_first=True\n",
    "        ),\n",
    "        \"rewards\": torch.nn.utils.rnn.pad_sequence(\n",
    "            rewards,\n",
    "            batch_first=True\n",
    "        ),\n",
    "        \"terminations\": torch.nn.utils.rnn.pad_sequence(\n",
    "            terminations,\n",
    "            batch_first=True\n",
    "        ),\n",
    "        \"truncations\": torch.nn.utils.rnn.pad_sequence(\n",
    "            truncations,\n",
    "            batch_first=True\n",
    "        ),\n",
    "        \"episode_lengths\": episode_lengths\n",
    "    }"
   ]
  },
  {
   "cell_type": "code",
   "execution_count": 6,
   "id": "faeabf7a",
   "metadata": {},
   "outputs": [],
   "source": [
    "def get_dataset_stats(dataset):\n",
    "    loader = DataLoader(dataset, batch_size=256, shuffle=False, collate_fn=collate_fn)\n",
    "    \n",
    "    all_obs, all_act = [], []\n",
    "    for batch in loader:\n",
    "        for i in range(batch['observations'].shape[0]):\n",
    "            length = batch['episode_lengths'][i]\n",
    "            all_obs.append(batch['observations'][i, :length])\n",
    "            all_act.append(batch['actions'][i, :length])\n",
    "\n",
    "    flat_obs = torch.cat(all_obs, dim=0)\n",
    "    flat_act = torch.cat(all_act, dim=0)\n",
    "\n",
    "    stats = {\n",
    "        \"obs_mean\": torch.mean(flat_obs, dim=0),\n",
    "        \"obs_std\": torch.std(flat_obs, dim=0),\n",
    "        \"act_mean\": torch.mean(flat_act, dim=0),\n",
    "        \"act_std\": torch.std(flat_act, dim=0)\n",
    "    }\n",
    "    # Add a small epsilon to prevent division by zero\n",
    "    stats[\"obs_std\"][stats[\"obs_std\"] < 1e-6] = 1e-6\n",
    "    stats[\"act_std\"][stats[\"act_std\"] < 1e-6] = 1e-6\n",
    "    print(\"Statistics calculation complete.\")\n",
    "    return stats\n"
   ]
  },
  {
   "cell_type": "code",
   "execution_count": 7,
   "id": "1f6286b9",
   "metadata": {},
   "outputs": [],
   "source": [
    "def create_trajectory_chunks(batch, horizon):\n",
    "    \"\"\"\n",
    "    Processes a padded batch to create fixed-size trajectory chunks.\n",
    "    \"\"\"\n",
    "    batch_size = batch['observations'].shape[0]\n",
    "    all_chunks = []\n",
    "\n",
    "    for i in range(batch_size):\n",
    "        # Get the data for one episode and its true length\n",
    "        obs = batch['observations'][i]      # Shape: (max_len, 8)\n",
    "        act = batch['actions'][i]          # Shape: (max_len-1, 2)\n",
    "        length = batch['episode_lengths'][i]       # Scalar, e.g., 495\n",
    "\n",
    "        # A single episode can produce multiple chunks\n",
    "        # We slide a window of size 'horizon' over the valid part of the episode\n",
    "        for start_idx in range(length - horizon + 1):\n",
    "            end_idx = start_idx + horizon\n",
    "\n",
    "            # Slice the observation and action sequences to get a chunk\n",
    "            obs_chunk = obs[start_idx:end_idx] # Shape: (horizon, 8)\n",
    "            act_chunk = act[start_idx:end_idx] # Shape: (horizon, 2)\n",
    "            \n",
    "            # Combine them into a single (horizon, 10) tensor\n",
    "            chunk = torch.cat([obs_chunk, act_chunk], dim=-1)\n",
    "\n",
    "            # Flatten the chunk to the final 1000-D vector and add to our list\n",
    "            all_chunks.append(chunk.flatten())\n",
    "\n",
    "    if not all_chunks:\n",
    "        return None\n",
    "\n",
    "    return torch.stack(all_chunks)\n",
    "\n",
    "def create_normalized_chunks(batch, horizon, stats):\n",
    "    obs_mean, obs_std = stats['obs_mean'], stats['obs_std']\n",
    "    act_mean, act_std = stats['act_mean'], stats['act_std']\n",
    "\n",
    "    all_chunks = []\n",
    "    for i in range(batch['observations'].shape[0]):\n",
    "        obs, act, length = batch['observations'][i], batch['actions'][i], batch['episode_lengths'][i]\n",
    "        \n",
    "        if length < horizon:\n",
    "            continue\n",
    "            \n",
    "        for start_idx in range(length - horizon + 1):\n",
    "            end_idx = start_idx + horizon\n",
    "            \n",
    "            obs_chunk = obs[start_idx:end_idx]\n",
    "            act_chunk = act[start_idx:end_idx]\n",
    "            \n",
    "            # apply normalization\n",
    "            norm_obs_chunk = (obs_chunk - obs_mean) / obs_std\n",
    "            norm_act_chunk = (act_chunk - act_mean) / act_std\n",
    "\n",
    "            chunk = torch.cat([norm_obs_chunk, norm_act_chunk], dim=-1)\n",
    "            all_chunks.append(chunk.flatten())\n",
    "\n",
    "    if not all_chunks:\n",
    "        return None\n",
    "    return torch.stack(all_chunks)\n",
    "\n",
    "\n",
    "def unnormalize_trajectory(norm_trajectory_chunk, stats, horizon, obs_dim, action_dim):\n",
    "    obs_mean, obs_std = stats['obs_mean'], stats['obs_std']\n",
    "    act_mean, act_std = stats['act_mean'], stats['act_std']\n",
    "    \n",
    "    # Reshape to (horizon, obs_dim + action_dim)\n",
    "    reshaped_chunk = norm_trajectory_chunk.reshape(horizon, obs_dim + action_dim)\n",
    "    \n",
    "    norm_obs = reshaped_chunk[:, :obs_dim]\n",
    "    norm_act = reshaped_chunk[:, obs_dim:]\n",
    "    \n",
    "    # Apply the reverse transformation: (data * std) + mean\n",
    "    unnorm_obs = (norm_obs * obs_std) + obs_mean\n",
    "    unnorm_act = (norm_act * act_std) + act_mean\n",
    "    \n",
    "    return unnorm_obs, unnorm_act"
   ]
  },
  {
   "cell_type": "code",
   "execution_count": 8,
   "id": "f9751e21",
   "metadata": {},
   "outputs": [
    {
     "name": "stdout",
     "output_type": "stream",
     "text": [
      "Statistics calculation complete.\n"
     ]
    },
    {
     "data": {
      "text/plain": [
       "{'obs_mean': tensor([-3.8224e-03,  4.5600e-01, -1.2215e-02, -2.1999e-01,  8.3548e-03,\n",
       "          5.4869e-05,  1.5350e-01,  1.5069e-01]),\n",
       " 'obs_std': tensor([0.1204, 0.4510, 0.1873, 0.1716, 0.1091, 0.0863, 0.3605, 0.3577]),\n",
       " 'act_mean': tensor([-0.0279,  0.0534]),\n",
       " 'act_std': tensor([0.5133, 0.3983])}"
      ]
     },
     "execution_count": 8,
     "metadata": {},
     "output_type": "execute_result"
    }
   ],
   "source": [
    "# load minari dataset\n",
    "import minari\n",
    "import random\n",
    "horizon = 100\n",
    "obs_dim = 8\n",
    "action_dim = 2\n",
    "\n",
    "def visualize_chunk(ax, chunk, color, x_limits=(-0.4, 0.4), y_limits=(-0.2, 1.5), mode='line'):\n",
    "    # make sure chunk is horizon x obs_dim\n",
    "    assert chunk.shape == (horizon , obs_dim,)\n",
    "    x = chunk[:, 0].cpu().numpy()\n",
    "    y = chunk[:, 1].cpu().numpy()\n",
    "    if mode == 'line':\n",
    "        ax.plot(x, y, linestyle='-', color=color, alpha=0.7)\n",
    "    elif mode == 'scatter':\n",
    "        ax.scatter(x, y, color=color, alpha=0.7)\n",
    "    ax.set_xlim(*x_limits)\n",
    "    ax.set_ylim(*y_limits)\n",
    "    ax.grid(True)\n",
    "\n",
    "minari_dataset = minari.load_dataset(dataset_id=\"LunarLanderContinuous-v3/ppo-1000-deterministic-v1\")\n",
    "minari_dataset_stats = get_dataset_stats(minari_dataset)\n",
    "minari_dataset_stats"
   ]
  },
  {
   "cell_type": "markdown",
   "id": "6d762065",
   "metadata": {},
   "source": [
    "## Trajectory Visualization from Expert Dataset"
   ]
  },
  {
   "cell_type": "code",
   "execution_count": 9,
   "id": "9b02a7cb",
   "metadata": {},
   "outputs": [
    {
     "name": "stdout",
     "output_type": "stream",
     "text": [
      "Visualizing with normalized chunks...\n"
     ]
    },
    {
     "data": {
      "image/png": "[encoded data removed]",
      "text/plain": [
       "<Figure size 1000x700 with 1 Axes>"
      ]
     },
     "metadata": {},
     "output_type": "display_data"
    }
   ],
   "source": [
    "\n",
    "dataloader = DataLoader(minari_dataset, batch_size=256, shuffle=True, collate_fn=collate_fn)\n",
    "fig, ax = plt.subplots(figsize=(10, 7))\n",
    "ax.set_title(f'Trajectories with Horizon {horizon} from expert dataset')\n",
    "print(\"Visualizing with normalized chunks...\")\n",
    "for batch in dataloader:\n",
    "    # processed_chunks = create_trajectory_chunks(batch, 100)\n",
    "    processed_chunks = create_normalized_chunks(batch, horizon, minari_dataset_stats)\n",
    "    random_chunk = random.choice(processed_chunks)\n",
    "    assert random_chunk.shape == (horizon * (obs_dim + action_dim),)\n",
    "    random_chunk = random_chunk.reshape(horizon, obs_dim + action_dim)\n",
    "    expert_obs = random_chunk[:, :obs_dim]\n",
    "    visualize_chunk(ax, expert_obs, color=\"green\", mode=\"line\", x_limits=(-5,5), y_limits=(-5, 5))"
   ]
  },
  {
   "cell_type": "markdown",
   "id": "2778c9b8",
   "metadata": {},
   "source": [
    "## Training"
   ]
  },
  {
   "cell_type": "code",
   "execution_count": null,
   "id": "325af361",
   "metadata": {},
   "outputs": [
    {
     "data": {
      "text/html": [
       "Finishing previous runs because reinit is set to 'default'."
      ],
      "text/plain": [
       "<IPython.core.display.HTML object>"
      ]
     },
     "metadata": {},
     "output_type": "display_data"
    },
    {
     "data": {
      "text/html": [],
      "text/plain": [
       "<IPython.core.display.HTML object>"
      ]
     },
     "metadata": {},
     "output_type": "display_data"
    },
    {
     "data": {
      "text/html": [
       "<br>    <style><br>        .wandb-row {<br>            display: flex;<br>            flex-direction: row;<br>            flex-wrap: wrap;<br>            justify-content: flex-start;<br>            width: 100%;<br>        }<br>        .wandb-col {<br>            display: flex;<br>            flex-direction: column;<br>            flex-basis: 100%;<br>            flex: 1;<br>            padding: 10px;<br>        }<br>    </style><br><div class=\"wandb-row\"><div class=\"wandb-col\"><h3>Run history:</h3><br/><table class=\"wandb\"><tr><td>avg_epoch_loss</td><td>█████▆▅▄▄▄▃▃▃▃▃▂▂▂▂▂▂▂▂▂▂▂▂▂▁▁▁▁▁▁▁▁▁▁▁▁</td></tr></table><br/></div><div class=\"wandb-col\"><h3>Run summary:</h3><br/><table class=\"wandb\"><tr><td>avg_epoch_loss</td><td>1.16664</td></tr></table><br/></div></div>"
      ],
      "text/plain": [
       "<IPython.core.display.HTML object>"
      ]
     },
     "metadata": {},
     "output_type": "display_data"
    },
    {
     "data": {
      "text/html": [
       " View run <strong style=\"color:#cdcd00\">splendid-snowball-74</strong> at: <a href='https://wandb.ai/frankcholula/FRL/runs/ilsydnq8' target=\"_blank\">https://wandb.ai/frankcholula/FRL/runs/ilsydnq8</a><br> View project at: <a href='https://wandb.ai/frankcholula/FRL' target=\"_blank\">https://wandb.ai/frankcholula/FRL</a><br>Synced 5 W&B file(s), 0 media file(s), 0 artifact file(s) and 0 other file(s)"
      ],
      "text/plain": [
       "<IPython.core.display.HTML object>"
      ]
     },
     "metadata": {},
     "output_type": "display_data"
    },
    {
     "data": {
      "text/html": [
       "Find logs at: <code>./wandb/run-20250718_160553-ilsydnq8/logs</code>"
      ],
      "text/plain": [
       "<IPython.core.display.HTML object>"
      ]
     },
     "metadata": {},
     "output_type": "display_data"
    },
    {
     "data": {
      "text/html": [
       "Tracking run with wandb version 0.21.0"
      ],
      "text/plain": [
       "<IPython.core.display.HTML object>"
      ]
     },
     "metadata": {},
     "output_type": "display_data"
    },
    {
     "data": {
      "text/html": [
       "Run data is saved locally in <code>/Users/frankcholula/Workspace/school/FRL-playground/wandb/run-20250718_161715-x0m7dtl3</code>"
      ],
      "text/plain": [
       "<IPython.core.display.HTML object>"
      ]
     },
     "metadata": {},
     "output_type": "display_data"
    },
    {
     "data": {
      "text/html": [
       "Syncing run <strong><a href='https://wandb.ai/frankcholula/FRL/runs/x0m7dtl3' target=\"_blank\">comic-plasma-75</a></strong> to <a href='https://wandb.ai/frankcholula/FRL' target=\"_blank\">Weights & Biases</a> (<a href='https://wandb.me/developer-guide' target=\"_blank\">docs</a>)<br>"
      ],
      "text/plain": [
       "<IPython.core.display.HTML object>"
      ]
     },
     "metadata": {},
     "output_type": "display_data"
    },
    {
     "data": {
      "text/html": [
       " View project at <a href='https://wandb.ai/frankcholula/FRL' target=\"_blank\">https://wandb.ai/frankcholula/FRL</a>"
      ],
      "text/plain": [
       "<IPython.core.display.HTML object>"
      ]
     },
     "metadata": {},
     "output_type": "display_data"
    },
    {
     "data": {
      "text/html": [
       " View run at <a href='https://wandb.ai/frankcholula/FRL/runs/x0m7dtl3' target=\"_blank\">https://wandb.ai/frankcholula/FRL/runs/x0m7dtl3</a>"
      ],
      "text/plain": [
       "<IPython.core.display.HTML object>"
      ]
     },
     "metadata": {},
     "output_type": "display_data"
    },
    {
     "name": "stdout",
     "output_type": "stream",
     "text": [
      "Starting training...\n",
      "| Epoch     10 | 5.51 s/epoch | Loss  1.22070 \n",
      "| Epoch     20 | 5.77 s/epoch | Loss  1.16102 \n",
      "| Epoch     30 | 5.43 s/epoch | Loss  1.14287 \n",
      "| Epoch     40 | 5.60 s/epoch | Loss  1.13374 \n",
      "| Epoch     50 | 5.52 s/epoch | Loss  1.12679 \n",
      "| Epoch     60 | 5.38 s/epoch | Loss  1.12146 \n",
      "| Epoch     70 | 5.44 s/epoch | Loss  1.11704 \n",
      "| Epoch     80 | 5.37 s/epoch | Loss  1.11445 \n",
      "| Epoch     90 | 5.43 s/epoch | Loss  1.11207 \n",
      "| Epoch    100 | 5.55 s/epoch | Loss  1.10954 \n",
      "Training finished.\n"
     ]
    }
   ],
   "source": [
    "from src.utils.loggers import WandBLogger\n",
    "env = minari_dataset.recover_environment()\n",
    "horizon = 100\n",
    "action_dim = env.action_space.shape[0]\n",
    "obs_dim = env.observation_space.shape[0]\n",
    "input_dim = (obs_dim + action_dim) * horizon\n",
    "\n",
    "# Training params\n",
    "lr = 0.001\n",
    "num_epochs = 1000\n",
    "print_every = 100\n",
    "hidden_dim = 256\n",
    "\n",
    "config = {\n",
    "    \"horizon\": horizon,\n",
    "    \"action_dim\": action_dim,\n",
    "    \"obs_dim\": obs_dim,\n",
    "    \"input_dim\": input_dim,\n",
    "    \"hidden_dim\": hidden_dim,\n",
    "    \"num_epochs\": num_epochs,\n",
    "    \"lr\": lr\n",
    "}\n",
    "\n",
    "logger = WandBLogger(config = config)\n",
    "vf = MLP(input_dim=input_dim, time_dim=1, hidden_dim=hidden_dim).to(device)\n",
    "path = AffineProbPath(scheduler=CondOTScheduler())\n",
    "optim = torch.optim.Adam(vf.parameters(), lr=lr)\n",
    "\n",
    "print(\"Starting training...\")\n",
    "for epoch in range(num_epochs):\n",
    "    total_epoch_loss = 0.0\n",
    "    total_chunks = 0\n",
    "    start_time = time.time()\n",
    "\n",
    "    for batch in dataloader:\n",
    "        optim.zero_grad()\n",
    "\n",
    "        # x_1 = create_trajectory_chunks(batch, horizon)\n",
    "        x_1 = create_normalized_chunks(batch, horizon, minari_dataset_stats)\n",
    "        if x_1 is None:\n",
    "            continue\n",
    "        x_1 = x_1.to(device)\n",
    "        x_0 = torch.randn_like(x_1).to(device)\n",
    "        t = torch.rand(x_1.shape[0]).to(device)\n",
    "\n",
    "        # 3. Forward pass and Loss\n",
    "        path_sample = path.sample(t=t, x_0=x_0, x_1=x_1)\n",
    "        predicted_velocity = vf(path_sample.x_t, path_sample.t)\n",
    "        loss = torch.pow(predicted_velocity - path_sample.dx_t, 2).mean()\n",
    "\n",
    "        # 4. Backward pass and Optimize\n",
    "        loss.backward()\n",
    "        optim.step()\n",
    "        total_epoch_loss += loss.item()\n",
    "        total_chunks += 1\n",
    "\n",
    "    avg_epoch_loss = total_epoch_loss / total_chunks if total_chunks > 0 else 0\n",
    "    logger.log({\"avg_epoch_loss\": avg_epoch_loss})\n",
    "    if (epoch + 1) % print_every == 0:\n",
    "        elapsed = time.time() - start_time\n",
    "        print(f\"| Epoch {epoch+1:6d} | {elapsed:.2f} s/epoch | Loss {avg_epoch_loss:8.5f} \")\n",
    "        start_time = time.time()\n",
    "print(\"Training finished.\")"
   ]
  },
  {
   "cell_type": "markdown",
   "id": "b83c25e1",
   "metadata": {},
   "source": [
    "## Sampling"
   ]
  },
  {
   "cell_type": "code",
   "execution_count": 36,
   "id": "b22867d1",
   "metadata": {},
   "outputs": [],
   "source": [
    "# try sampling from trained model...\n",
    "class WrappedModel(ModelWrapper):\n",
    "    def forward(self, x: torch.Tensor, t: torch.Tensor, **extras):\n",
    "        return self.model(x, t)\n",
    "\n",
    "\n",
    "wrapped_vf = WrappedModel(vf)\n",
    "step_size = 0.05\n",
    "batch_size = 1  # batch size\n",
    "T = torch.linspace(0, 1, 10)  # sample times\n",
    "T = T.to(device=device)\n",
    "solver = ODESolver(velocity_model=wrapped_vf)  # create an ODESolver class\n",
    "\n",
    "\n",
    "def generate_trajectory():\n",
    "    x_init = torch.randn((batch_size, input_dim), dtype=torch.float32, device=device)\n",
    "    sol = solver.sample(\n",
    "        time_grid=T,\n",
    "        x_init=x_init,\n",
    "        method=\"midpoint\",\n",
    "        step_size=step_size,\n",
    "        return_intermediates=True,\n",
    "    )\n",
    "    final_trajectory = sol[-1].reshape(horizon, obs_dim + action_dim)\n",
    "\n",
    "    obs, act = unnormalize_trajectory(\n",
    "        final_trajectory.flatten(), minari_dataset_stats, horizon, obs_dim, action_dim\n",
    "    )\n",
    "\n",
    "    # obs = final_trajectory[:, :obs_dim]\n",
    "    # act = final_trajectory[:, obs_dim:obs_dim + action_dim]\n",
    "    return obs, act"
   ]
  },
  {
   "cell_type": "code",
   "execution_count": 87,
   "id": "69c538b5",
   "metadata": {},
   "outputs": [
    {
     "name": "stdout",
     "output_type": "stream",
     "text": [
      "Generating new trajectory...\n",
      "Generating new trajectory...\n",
      "Generating new trajectory...\n",
      "Generating new trajectory...\n"
     ]
    },
    {
     "data": {
      "image/png": "[encoded data removed]",
      "text/plain": [
       "<Figure size 1000x700 with 1 Axes>"
      ]
     },
     "metadata": {},
     "output_type": "display_data"
    }
   ],
   "source": [
    "fig, ax = plt.subplots(figsize=(10, 7))\n",
    "observations, actions = generate_trajectory()\n",
    "ax.set_title(f'Four trajectories with horizon {horizon} using normalized chunks')\n",
    "\n",
    "# visulizing 4 trajectories\n",
    "for _ in range(4):\n",
    "    colors = ['red', 'green', 'blue', 'yellow']\n",
    "    print(\"Generating new trajectory...\")\n",
    "    observations, actions = generate_trajectory()\n",
    "    visualize_chunk(ax, observations, color=colors[_],\n",
    "                    x_limits=(-2, 2), y_limits=(-1, 2), mode='scatter')"
   ]
  },
  {
   "cell_type": "code",
   "execution_count": 49,
   "id": "66c6c74d",
   "metadata": {},
   "outputs": [
    {
     "data": {
      "text/plain": [
       "tensor([[ 6.2956e-02,  4.6967e-01, -3.6204e-02, -8.6150e-02, -7.0379e-03,\n",
       "         -1.2734e-01, -1.0344e+00,  2.5084e-01],\n",
       "        [ 3.2303e-01,  2.3374e-01, -1.7355e-01,  3.5278e-02, -1.4114e-01,\n",
       "          1.3736e-03, -2.1346e-01, -1.8196e-01],\n",
       "        [ 1.6815e-01, -1.3625e-02, -3.1221e-01,  2.9812e-02,  1.7238e-02,\n",
       "          3.6549e-02, -4.6146e-01, -2.4894e-01],\n",
       "        [-8.6655e-02, -2.5907e-01, -3.7613e-01, -1.5994e-01,  7.7013e-02,\n",
       "          4.8848e-02,  7.7857e-02, -4.4261e-01],\n",
       "        [ 1.8848e-01,  4.8647e-01, -9.0399e-02, -2.1647e-01,  5.9825e-02,\n",
       "         -1.1675e-02, -1.2652e-01,  3.7884e-01],\n",
       "        [ 4.5760e-03,  4.1349e-01, -1.5132e-01, -1.4187e-01, -2.0863e-02,\n",
       "          3.9718e-02,  2.8556e-01, -6.0875e-01],\n",
       "        [ 1.4480e-01,  1.1424e-01,  8.2362e-02, -3.1712e-01,  2.3588e-01,\n",
       "         -5.4350e-02,  4.7168e-01, -4.0803e-01],\n",
       "        [ 1.8460e-01,  1.0713e-01, -3.4588e-02, -6.2269e-02,  1.5528e-01,\n",
       "          1.8685e-02,  4.6654e-01, -9.9737e-02],\n",
       "        [ 1.9426e-02, -8.3707e-01, -3.3204e-01, -1.9411e-01, -7.9904e-02,\n",
       "          5.8965e-02,  8.0344e-02,  2.4219e-01],\n",
       "        [-4.3934e-02,  1.3556e-01, -1.3704e-01, -2.9626e-01,  4.9505e-02,\n",
       "         -9.0402e-02,  2.1533e-01, -2.7357e-01],\n",
       "        [ 1.0586e-01, -1.6668e-02,  2.0189e-01, -1.6108e-01, -6.5016e-03,\n",
       "          8.3691e-02,  4.4933e-02,  1.3158e-01],\n",
       "        [-1.3972e-01,  7.2775e-01, -2.1345e-01,  5.2560e-02, -2.3328e-01,\n",
       "          3.6433e-02,  4.2810e-02, -6.0664e-02],\n",
       "        [ 5.1093e-02,  7.1044e-01, -2.9861e-01, -1.7725e-01,  4.6842e-02,\n",
       "         -8.6169e-02, -2.1901e-01, -1.6450e-01],\n",
       "        [-4.9985e-02,  2.1161e-01, -3.0092e-01, -2.6675e-02, -2.2882e-01,\n",
       "          1.3797e-02,  6.9380e-01, -1.0412e-01],\n",
       "        [-3.8228e-02,  2.0677e-01,  1.4553e-01,  2.8459e-01,  5.5706e-02,\n",
       "         -2.5149e-02, -1.3173e-01, -1.7592e-01],\n",
       "        [ 2.3672e-01, -4.9589e-01, -1.3802e-02, -4.2900e-01, -5.1788e-02,\n",
       "         -4.9372e-02, -7.6762e-02, -6.5580e-02],\n",
       "        [-1.0770e-02, -2.1527e-01, -2.3169e-02, -9.5678e-02,  1.0396e-01,\n",
       "         -1.0837e-01,  2.4084e-01, -2.7438e-01],\n",
       "        [ 8.9162e-02,  4.5442e-01, -6.6828e-02,  1.3649e-02, -5.0416e-02,\n",
       "          6.9034e-02,  2.4135e-01,  1.8825e-02],\n",
       "        [ 5.8553e-02,  8.6197e-02, -4.5982e-02, -1.0638e-01, -5.3886e-02,\n",
       "         -8.1612e-02,  1.5319e-01, -1.5474e-01],\n",
       "        [ 6.5673e-02,  9.9954e-01, -3.7532e-01, -1.0207e-01,  1.9170e-01,\n",
       "         -3.0990e-02,  4.4448e-01,  8.9724e-01],\n",
       "        [ 3.0277e-01,  1.9310e-02,  1.1557e-02, -3.0955e-01,  8.1069e-02,\n",
       "          6.1140e-02, -1.9076e-01, -2.7405e-01],\n",
       "        [ 1.3109e-01,  7.9902e-01, -2.3824e-01, -5.4857e-01,  1.1878e-01,\n",
       "         -1.6261e-02,  4.0743e-01, -2.9345e-01],\n",
       "        [-9.9520e-04,  5.0858e-01, -1.2597e-03, -3.7267e-02, -1.2824e-01,\n",
       "          9.8040e-03,  5.8327e-01, -7.3374e-02],\n",
       "        [ 1.2510e-01,  1.6635e-01, -1.8080e-01, -2.0702e-01, -2.1048e-01,\n",
       "         -4.1966e-02,  1.1280e-01, -9.6805e-02],\n",
       "        [ 3.1581e-03, -3.0432e-01, -2.0948e-01, -9.5327e-02, -5.4701e-02,\n",
       "         -1.1122e-01,  3.0869e-01, -5.8868e-01],\n",
       "        [ 2.5635e-01, -1.1015e+00, -2.3716e-01, -3.5852e-01, -9.2301e-02,\n",
       "          1.6545e-01, -3.2706e-01, -2.6286e-02],\n",
       "        [ 2.2987e-01,  3.7028e-01, -1.8034e-01,  6.2450e-02,  1.2697e-01,\n",
       "          7.1050e-02, -1.2903e-01,  1.2107e-01],\n",
       "        [ 2.6591e-01, -3.2252e-01,  1.6893e-01, -7.1891e-02,  1.7804e-03,\n",
       "          4.6402e-02, -2.0667e-01,  3.6344e-01],\n",
       "        [-5.9781e-02,  3.1181e-02, -3.3784e-01, -1.5908e-01,  7.1833e-02,\n",
       "         -1.2960e-01, -5.9827e-01,  1.6166e-01],\n",
       "        [ 1.1600e-01,  3.7877e-01,  1.5414e-01, -3.1983e-01,  1.3872e-01,\n",
       "          5.5958e-02, -2.4202e-01,  4.9901e-01],\n",
       "        [-2.4958e-01,  4.8300e-02, -2.3471e-01, -1.4957e-01,  1.9529e-02,\n",
       "          1.5008e-01,  1.7222e-01, -2.5374e-01],\n",
       "        [-2.4540e-01,  2.8970e-01, -8.5707e-02, -2.7555e-01, -7.0934e-02,\n",
       "         -6.4372e-02, -3.4507e-01, -2.4177e-01],\n",
       "        [-1.3335e-01, -4.7299e-02,  2.4512e-02, -2.7470e-01,  1.5806e-01,\n",
       "          7.6839e-02, -4.4668e-01, -5.1567e-02],\n",
       "        [ 3.9933e-02,  2.5925e-01, -3.9908e-01, -1.8420e-01, -1.7060e-02,\n",
       "          1.4707e-01, -3.0549e-01,  2.1559e-01],\n",
       "        [-4.2429e-02,  2.4299e-01, -8.8487e-02, -3.8231e-01,  3.4384e-02,\n",
       "         -3.9129e-02, -6.7803e-01, -1.4116e-01],\n",
       "        [-1.5101e-01, -4.0708e-01,  2.2560e-03, -4.1206e-01, -6.9124e-02,\n",
       "         -4.4967e-02, -2.2863e-01,  1.4255e-01],\n",
       "        [ 1.5336e-02,  6.5165e-02, -9.1296e-02, -2.8782e-01, -2.1537e-01,\n",
       "          4.5328e-03,  1.6134e-01,  1.9800e-01],\n",
       "        [-5.0920e-02,  7.5844e-01, -1.7103e-01, -1.1728e-01,  2.9578e-03,\n",
       "          7.7772e-02,  3.5032e-01, -2.6983e-01],\n",
       "        [ 3.1915e-02,  2.5979e-01, -4.5397e-02,  1.1597e-01, -1.1204e-02,\n",
       "         -1.3523e-01, -5.0884e-03,  3.1015e-01],\n",
       "        [ 6.2360e-02, -1.6480e-01, -1.0500e-01, -8.8000e-02, -7.6067e-02,\n",
       "         -1.2836e-01,  2.7325e-01,  1.1249e-01],\n",
       "        [ 1.3550e-01,  4.7783e-01, -7.1447e-02,  1.1784e-01, -1.5936e-01,\n",
       "         -3.6213e-02,  4.9686e-01, -2.8890e-01],\n",
       "        [ 4.5303e-02, -3.3184e-01, -7.2098e-02,  2.1024e-01, -5.1181e-03,\n",
       "         -9.2525e-02, -3.3970e-01, -3.7384e-01],\n",
       "        [ 4.3461e-02,  4.8408e-03, -7.8382e-03, -3.9586e-02, -3.0273e-01,\n",
       "          2.2601e-02,  1.0870e-01, -7.6867e-02],\n",
       "        [-9.4066e-02, -5.2910e-02,  2.8745e-01,  5.1306e-02, -1.4224e-01,\n",
       "         -1.4466e-02, -1.7670e-01, -3.8851e-01],\n",
       "        [-3.5156e-02,  9.1652e-01, -5.0430e-02,  9.0988e-02, -2.1053e-02,\n",
       "          1.0682e-01, -2.2098e-01,  4.2237e-01],\n",
       "        [ 1.1661e-01,  7.7823e-02, -2.6095e-03,  9.9737e-02,  6.3513e-02,\n",
       "         -2.6452e-02,  7.0766e-01, -1.1038e-01],\n",
       "        [ 5.7291e-02, -1.1401e-01, -1.9100e-01, -1.3648e-01,  4.9964e-02,\n",
       "         -7.5860e-02, -1.6293e-01, -2.8774e-01],\n",
       "        [ 8.5835e-02, -2.9922e-02, -1.1134e-01, -1.1394e-02, -8.8003e-02,\n",
       "         -2.1389e-02, -6.0644e-01,  2.0088e-01],\n",
       "        [ 2.1462e-02,  2.3974e-01, -1.0269e-01, -2.9649e-01, -1.6074e-02,\n",
       "         -2.5539e-02, -3.1596e-01, -1.2185e-01],\n",
       "        [-9.3541e-02, -2.1935e-01,  4.7855e-03, -1.9732e-01, -1.2337e-01,\n",
       "         -1.4856e-01, -5.3558e-01,  3.0463e-01],\n",
       "        [-8.8037e-02,  2.0208e-01, -5.7279e-02,  2.7354e-01, -2.2141e-02,\n",
       "         -4.7556e-02,  5.0899e-01, -8.0702e-02],\n",
       "        [-6.9004e-02,  9.2721e-01, -1.6490e-01, -2.5625e-01,  1.1875e-01,\n",
       "         -5.1465e-03,  6.6520e-01, -4.6004e-02],\n",
       "        [-6.9070e-02,  8.7053e-01, -4.2020e-01, -1.4338e-01, -6.9337e-02,\n",
       "          4.4463e-02,  3.5816e-01, -9.7158e-02],\n",
       "        [ 1.9028e-02, -1.8781e-01, -6.9223e-01,  5.1178e-03,  3.8624e-02,\n",
       "          8.9460e-02,  9.0604e-03, -2.5347e-01],\n",
       "        [-1.0797e-03, -2.5491e-02,  5.5785e-02, -2.1844e-01, -3.3044e-02,\n",
       "          4.2008e-02,  1.0828e-02, -4.9940e-02],\n",
       "        [ 1.7001e-01,  3.7920e-01, -3.0274e-01,  1.7515e-01, -5.2189e-02,\n",
       "          9.9366e-02, -4.0997e-01,  2.1575e-02],\n",
       "        [ 5.3342e-02, -3.2801e-01, -3.4534e-01, -3.1583e-01, -1.1726e-01,\n",
       "          1.8626e-01, -1.5401e-02,  2.5013e-01],\n",
       "        [-1.7383e-02,  1.9354e-01, -8.3432e-02,  3.0495e-01, -1.7385e-01,\n",
       "          1.2072e-01,  1.0026e+00, -3.0917e-01],\n",
       "        [ 3.3707e-01,  3.2525e-01, -1.3740e-01, -2.8725e-01, -3.7872e-02,\n",
       "         -8.2083e-02,  3.3338e-01,  3.4797e-01],\n",
       "        [ 4.7778e-02,  3.4308e-01, -1.7119e-01, -2.1643e-01, -1.5844e-02,\n",
       "          1.3287e-01, -2.9656e-01,  2.9488e-01],\n",
       "        [-1.5896e-01, -5.0001e-01, -1.2587e-01, -3.8677e-01, -2.2103e-02,\n",
       "          4.6840e-02,  2.9754e-02,  5.1086e-01],\n",
       "        [-1.0568e-01, -1.8704e-01, -5.4969e-02, -4.8283e-02, -3.8988e-02,\n",
       "          1.5898e-01,  6.2043e-01,  1.0068e+00],\n",
       "        [ 1.5983e-01, -3.6029e-01, -3.0667e-01, -3.5251e-01, -2.0999e-01,\n",
       "          2.9563e-02,  2.5778e-03,  5.1952e-01],\n",
       "        [ 1.4121e-01, -1.4630e-01, -2.4863e-01,  4.7977e-02,  2.3049e-02,\n",
       "         -1.8405e-02,  3.1788e-01,  6.8928e-01],\n",
       "        [-1.4944e-02,  1.2502e-01, -1.2793e-01, -3.3913e-02, -1.2687e-01,\n",
       "         -4.3563e-02,  6.0750e-01,  4.0778e-01],\n",
       "        [ 2.7857e-01,  5.1255e-01, -9.6317e-02, -4.1886e-02, -1.7133e-01,\n",
       "         -1.1503e-01,  7.6053e-01,  1.1182e+00],\n",
       "        [-5.4565e-03,  4.6490e-01,  4.5512e-02, -7.2936e-02,  6.5462e-02,\n",
       "         -1.4172e-01,  1.5029e+00,  9.1125e-01],\n",
       "        [ 8.5088e-02, -4.9743e-01, -6.7244e-02,  4.1933e-02,  5.9020e-02,\n",
       "         -4.9398e-02,  1.2004e+00,  1.3145e+00],\n",
       "        [ 1.4468e-01, -2.3201e-01,  1.9723e-01,  6.4363e-02,  2.4652e-01,\n",
       "         -5.6547e-02,  1.6938e+00,  8.6585e-01],\n",
       "        [-5.5350e-02, -9.5814e-01,  8.7865e-02, -3.8031e-03,  7.4375e-02,\n",
       "         -1.5081e-01,  8.9431e-01,  7.9130e-01],\n",
       "        [-1.8291e-02, -4.6997e-01, -3.7737e-01,  1.0162e-01,  1.2776e-01,\n",
       "          1.4636e-02,  1.1113e+00,  1.3062e+00],\n",
       "        [ 3.1640e-01,  3.0650e-01, -2.3100e-01,  1.3444e-01, -8.8556e-02,\n",
       "          5.7054e-02,  1.3758e+00,  1.0917e+00],\n",
       "        [ 2.4156e-01, -2.6805e-01, -4.8081e-02, -1.7048e-01, -1.2479e-01,\n",
       "          1.9638e-02,  1.3847e+00,  8.0113e-01],\n",
       "        [ 1.4117e-01,  4.4835e-01,  2.7224e-02,  2.2616e-01,  2.4679e-02,\n",
       "         -1.0264e-02,  1.0413e+00,  1.3494e+00],\n",
       "        [ 9.3512e-02,  3.8206e-01, -8.6121e-02,  1.1297e-01, -1.3801e-01,\n",
       "          1.7397e-01,  7.8286e-01,  1.1382e+00],\n",
       "        [-8.0013e-02,  8.2260e-01,  1.6039e-01,  2.6460e-01,  9.8606e-02,\n",
       "         -1.0997e-01,  9.0992e-01,  1.0058e+00],\n",
       "        [-3.3155e-03,  1.9363e-01,  5.5593e-02, -2.0834e-01,  6.8232e-05,\n",
       "          7.0497e-02,  9.7155e-01,  9.4384e-01],\n",
       "        [ 1.4357e-01, -3.9943e-01, -8.3047e-02,  4.7361e-02, -2.1970e-01,\n",
       "         -3.7091e-02,  1.3239e+00,  5.5013e-01],\n",
       "        [ 1.8441e-02, -3.4600e-01, -7.8632e-02,  1.1786e-03, -7.4589e-02,\n",
       "          8.6251e-02,  1.0031e+00,  1.2643e+00],\n",
       "        [-2.0616e-01, -7.6232e-03, -1.2127e-01, -8.9495e-02,  1.2308e-01,\n",
       "         -5.7362e-02,  6.5797e-01,  1.1633e+00],\n",
       "        [-8.7796e-02,  3.0638e-01,  1.0587e-01,  1.7159e-01,  1.9933e-01,\n",
       "         -1.9709e-01,  8.0302e-01,  1.0551e+00],\n",
       "        [-1.0223e-01, -5.5731e-02, -3.1804e-01,  2.7465e-02, -1.0792e-01,\n",
       "         -8.7816e-02,  1.3576e+00,  9.5413e-01],\n",
       "        [-1.4437e-01, -3.3943e-01,  6.1537e-03,  7.4163e-02, -1.2938e-01,\n",
       "          7.2603e-02,  1.6112e+00,  9.9320e-01],\n",
       "        [-1.6797e-01, -5.2485e-01,  1.0273e-01,  1.3290e-01, -1.6687e-01,\n",
       "         -1.7586e-01,  6.2833e-01,  7.2911e-01],\n",
       "        [ 1.5727e-01,  6.6033e-01,  4.4118e-01, -1.3612e-01,  2.3239e-02,\n",
       "         -1.6196e-01,  1.3214e+00,  9.8714e-01],\n",
       "        [-7.6512e-02, -6.4042e-01,  6.4043e-02,  6.7915e-04, -1.0324e-01,\n",
       "          3.7067e-03,  9.1137e-01,  1.3543e+00],\n",
       "        [ 2.1796e-02, -5.7191e-01,  1.7138e-01, -2.7081e-01, -1.2629e-01,\n",
       "         -1.3119e-02,  7.6212e-01,  9.8895e-01],\n",
       "        [-1.2162e-02,  2.8102e-01, -3.0829e-02, -3.3660e-02,  8.8895e-02,\n",
       "         -5.7094e-02,  1.1892e+00,  5.4607e-01],\n",
       "        [-2.1856e-01, -5.6460e-01, -1.0681e-02, -1.4405e-01,  1.2766e-01,\n",
       "          1.7006e-02,  1.5789e+00,  8.9131e-01],\n",
       "        [ 1.5890e-01,  2.1107e-01, -4.7485e-01,  1.7953e-01,  8.8728e-02,\n",
       "          2.6791e-02,  1.2785e+00,  8.2267e-01],\n",
       "        [ 1.2930e-01,  3.6491e-02, -1.4122e-01, -1.4678e-01, -5.6850e-02,\n",
       "          7.9113e-02,  9.7310e-01,  1.1264e+00],\n",
       "        [-3.1596e-02,  4.1199e-01,  7.9249e-03,  1.3353e-01, -1.2298e-01,\n",
       "          1.2737e-02,  8.0619e-01,  7.5817e-01],\n",
       "        [-2.7344e-01, -3.7317e-01,  1.3604e-01,  9.1846e-02,  2.1098e-01,\n",
       "         -2.7626e-02,  1.1997e+00,  6.6330e-01],\n",
       "        [ 1.7379e-02,  4.4801e-01,  8.1262e-02, -1.9944e-01,  2.4734e-02,\n",
       "         -8.3597e-02,  9.6996e-01,  6.4599e-01],\n",
       "        [-2.8891e-02, -5.0420e-01, -7.8003e-02,  2.0507e-01,  6.0522e-02,\n",
       "         -5.1813e-02,  9.0118e-01,  6.5227e-01],\n",
       "        [-2.2443e-02,  4.7092e-01,  1.0634e-02, -7.9042e-02,  3.6459e-02,\n",
       "         -4.4405e-03,  1.0723e+00,  1.4743e+00],\n",
       "        [-1.5359e-01,  1.6333e-03, -5.8760e-01, -6.7456e-02, -3.0657e-02,\n",
       "         -1.2431e-01,  1.5163e+00,  1.3630e+00],\n",
       "        [ 6.3563e-02, -9.2301e-01,  9.2176e-02, -1.3947e-01, -2.5774e-02,\n",
       "          1.1794e-01,  1.3815e+00,  1.5144e+00],\n",
       "        [ 2.9030e-01, -2.3325e-01,  3.1043e-02, -3.6201e-02,  1.1257e-01,\n",
       "          4.1437e-02,  5.3745e-01,  1.1143e+00],\n",
       "        [-5.3745e-02,  6.3966e-01, -9.1899e-02, -2.3715e-02, -5.3925e-02,\n",
       "         -1.9377e-01,  1.0076e+00,  7.3119e-01]])"
      ]
     },
     "execution_count": 49,
     "metadata": {},
     "output_type": "execute_result"
    }
   ],
   "source": [
    "observations, actions = generate_trajectory()\n",
    "observations"
   ]
  },
  {
   "cell_type": "code",
   "execution_count": 52,
   "id": "4042d802",
   "metadata": {},
   "outputs": [
    {
     "name": "stdout",
     "output_type": "stream",
     "text": [
      "Finished episode 10/100 - Model Reward: -192.8700771818713, Random Reward: -188.3357817979424\n",
      "Finished episode 20/100 - Model Reward: -64.09468973575761, Random Reward: -212.98812688138722\n",
      "Finished episode 30/100 - Model Reward: -474.06995216143383, Random Reward: -128.82188139279748\n",
      "Finished episode 40/100 - Model Reward: -273.55101054163435, Random Reward: -220.81846856456175\n",
      "Finished episode 50/100 - Model Reward: -173.59328696743677, Random Reward: -119.09430954846611\n",
      "Finished episode 60/100 - Model Reward: -536.931911231939, Random Reward: -60.05257475460127\n",
      "Finished episode 70/100 - Model Reward: -179.45538804732493, Random Reward: -17.444932806175252\n",
      "Finished episode 80/100 - Model Reward: -171.35179663487384, Random Reward: -193.8260620578572\n",
      "Finished episode 90/100 - Model Reward: -566.0786673306559, Random Reward: -21.95657731560732\n",
      "Finished episode 100/100 - Model Reward: -282.1711192997768, Random Reward: -13.373851290462005\n",
      "Evaluation finished.\n"
     ]
    }
   ],
   "source": [
    "horizon = 100\n",
    "num_eval_episodes = 100\n",
    "env = minari_dataset.recover_environment(eval_env = True)\n",
    "model_rewards = []\n",
    "random_rewards = []\n",
    "for eps in range(num_eval_episodes):\n",
    "    obs, _ = env.reset()\n",
    "    total_rew = 0\n",
    "    obs, actions = generate_trajectory()\n",
    "    for i in range(horizon):\n",
    "        action = actions[i].cpu().numpy()\n",
    "        obs, rew, terminated, truncated, info = env.step(action)\n",
    "        total_rew += rew\n",
    "        if terminated or truncated:\n",
    "            break\n",
    "    model_rewards.append(total_rew)\n",
    "\n",
    "    env.reset()\n",
    "    total_rew_random = 0\n",
    "    for i in range(horizon):\n",
    "        action = env.action_space.sample()\n",
    "        obs, rew, terminated, truncated, info = env.step(action)\n",
    "        total_rew_random += rew\n",
    "        if terminated or truncated:\n",
    "            break\n",
    "    random_rewards.append(total_rew_random)\n",
    "    if (eps + 1) % 10 == 0:\n",
    "        print(f\"Finished episode {eps + 1}/{num_eval_episodes} - Model Reward: {total_rew}, Random Reward: {total_rew_random}\")\n",
    "env.close()\n",
    "print(\"Evaluation finished.\")\n"
   ]
  },
  {
   "cell_type": "code",
   "execution_count": 55,
   "id": "0394d0ac",
   "metadata": {},
   "outputs": [],
   "source": [
    "\n",
    "horizon = 100\n",
    "minari_dataset = minari.load_dataset(dataset_id=\"LunarLanderContinuous-v3/ppo-1000-deterministic-v1\")\n",
    "env = minari_dataset.recover_environment(eval_env=True, render_mode=\"human\")\n",
    "\n",
    "obs, _ = env.reset()\n",
    "total_rew_random = 0\n",
    "obs, actions = generate_trajectory()\n",
    "total_rew = 0\n",
    "for i in range(horizon):\n",
    "    action = actions[i].cpu().numpy()\n",
    "    obs, rew, terminated, truncated, info = env.step(action)\n",
    "    total_rew += rew\n",
    "    if terminated or truncated:\n",
    "        break\n",
    "env.close()"
   ]
  }
 ],
 "metadata": {
  "kernelspec": {
   "display_name": "Python 3",
   "language": "python",
   "name": "python3"
  },
  "language_info": {
   "codemirror_mode": {
    "name": "ipython",
    "version": 3
   },
   "file_extension": ".py",
   "mimetype": "text/x-python",
   "name": "python",
   "nbconvert_exporter": "python",
   "pygments_lexer": "ipython3",
   "version": "3.10.12"
  }
 },
 "nbformat": 4,
 "nbformat_minor": 5
}
